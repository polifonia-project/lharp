{
 "cells": [
  {
   "cell_type": "markdown",
   "metadata": {},
   "source": [
    "## Small-scale study on Tosca"
   ]
  },
  {
   "cell_type": "code",
   "execution_count": 1,
   "metadata": {},
   "outputs": [],
   "source": [
    "# Step 1: Preprocessing of chord sequences: not needed in this case\n",
    "# Step 2: Transposition to the Cmaj key\n",
    "# Step 3: Encoding of sequences\n",
    "# Step 4: Computation of the ngrams\n",
    "# Step 5: Computation of the harmonic similarity\n",
    "# Step 6: New hsim_map + (optional) updating the graph"
   ]
  },
  {
   "cell_type": "code",
   "execution_count": 2,
   "metadata": {},
   "outputs": [],
   "source": [
    "import sys\n",
    "import json\n",
    "import joblib\n",
    "\n",
    "import pandas as pd\n",
    "\n",
    "from ChordalPy.Transposers import transpose\n",
    "\n",
    "sys.path.insert(0,'src/')"
   ]
  },
  {
   "cell_type": "code",
   "execution_count": 3,
   "metadata": {},
   "outputs": [],
   "source": [
    "sonar_meta = pd.read_csv(\"setup/sonar_datasets_meta.csv\")\n",
    "\n",
    "with open(\"extra/arias.json\", \"rb\") as fo:\n",
    "    arias_raw = json.load(fo)\n",
    "\n",
    "with open(\"setup/sonar_ngrams_global.joblib\", \"rb\") as fo:\n",
    "    sonar_brps = joblib.load(fo)\n",
    "\n",
    "with open(\"setup/sonar_encoding_bundle.joblib\", \"rb\") as fo:\n",
    "    encoding_bundle = joblib.load(fo)\n",
    "\n",
    "encdec = encoding_bundle[\"encoder_decoder\"]"
   ]
  },
  {
   "cell_type": "markdown",
   "metadata": {},
   "source": [
    "### Step 1: Preprocessing chord sequences\n",
    "For this example, we do not need to remove consecutive repetitions as they do not occur."
   ]
  },
  {
   "cell_type": "code",
   "execution_count": 7,
   "metadata": {},
   "outputs": [],
   "source": [
    "chord_map = {\n",
    "    \"E:min7(b5)\": \"E:min7\",\n",
    "    \"F:min7(b5)\": \"F:min7\"\n",
    "}\n",
    "\n",
    "chord_pproc = {}\n",
    "\n",
    "for track_name, track_ann in arias_raw.items():\n",
    "    chord_pproc[track_name] = []\n",
    "    for chord in track_ann[\"chord\"]:\n",
    "        chord_class = chord[0]  # just keep the label\n",
    "        chord_class = chord_map.get(chord_class, chord_class)\n",
    "        chord_pproc[track_name].append(chord_class)"
   ]
  },
  {
   "cell_type": "markdown",
   "metadata": {},
   "source": [
    "### Step 2: Transposition to the C(maj) key"
   ]
  },
  {
   "cell_type": "code",
   "execution_count": 8,
   "metadata": {},
   "outputs": [],
   "source": [
    "chord_transp = {}\n",
    "\n",
    "for track_name in chord_pproc.keys():\n",
    "    track_gkey = arias_raw[track_name][\"key\"][0]\n",
    "    track_gkey = track_gkey[0].split(\":\")[0]\n",
    "    # Ready to transpose -- only at the tonic-level\n",
    "    transposed = []  # holds the transpositions\n",
    "    for chord in chord_pproc[track_name]:\n",
    "        transposed.append(transpose(chord, track_gkey))\n",
    "    # Update the transp-specific dict\n",
    "    chord_transp[track_name] = transposed\n"
   ]
  },
  {
   "cell_type": "markdown",
   "metadata": {},
   "source": [
    "### Step 3: Encoding of chord sequences"
   ]
  },
  {
   "cell_type": "code",
   "execution_count": 9,
   "metadata": {},
   "outputs": [],
   "source": [
    "chord_encoded = {}\n",
    "\n",
    "for track_name, chords in chord_transp.items():\n",
    "    chord_encoded[track_name] = []\n",
    "    for chord in chords:  # iterating over chords\n",
    "        try:\n",
    "            hash = encdec._compute_chord_hash(chord)\n",
    "            token = encdec.hash_to_index[hash]\n",
    "            chord_encoded[track_name].append(token)\n",
    "        except:\n",
    "            print(f\"Could not encode: {chord}\")"
   ]
  },
  {
   "cell_type": "markdown",
   "metadata": {},
   "source": [
    "### Step 4: Computation of ngrams"
   ]
  },
  {
   "cell_type": "code",
   "execution_count": 10,
   "metadata": {},
   "outputs": [],
   "source": [
    "from ngrams_lib import extract_ngrams\n",
    "\n",
    "recurring_patterns = {}\n",
    "\n",
    "for track_name, chords in chord_encoded.items():\n",
    "    recurring_patterns.update(extract_ngrams(\n",
    "        track_name, chords, n_start=3))"
   ]
  },
  {
   "cell_type": "markdown",
   "metadata": {},
   "source": [
    "### Step 5: Computing the harmonic similarity"
   ]
  },
  {
   "cell_type": "code",
   "execution_count": 11,
   "metadata": {},
   "outputs": [],
   "source": [
    "from harmonic_lib import ngram_hsim\n",
    "\n",
    "hsim_map_mini = {track_id: {} for track_id in list(recurring_patterns.keys())}\n",
    "\n",
    "for track_name, track_brps in recurring_patterns.items():\n",
    "    for sonar_entry in sonar_brps:\n",
    "        sonar_track = list(sonar_entry.keys())[0]\n",
    "        sonar_bag = list(sonar_entry.values())[0]\n",
    "        # Compute the harmonic similarity\n",
    "        hsim, longest_rps = ngram_hsim(track_brps, sonar_bag)\n",
    "        longest_rps = [[encdec.decode_event(idx) for idx in lsrp_shot] \\\n",
    "            for lsrp_shot in longest_rps]  # keep and decode\n",
    "        if hsim > 0.:  # save only non-trivial\n",
    "            hsim_map_mini[track_name][sonar_track] = hsim, longest_rps"
   ]
  },
  {
   "cell_type": "code",
   "execution_count": 12,
   "metadata": {},
   "outputs": [
    {
     "data": {
      "text/plain": [
       "{'E lucevan le stelle': {'isophonics_61': (0.24561403508771928,\n",
       "   [['Eb', 'G:7', 'C:(b3,5)']]),\n",
       "  'isophonics_152': (0.22435897435897434, [['Ab:maj6', 'Bb', 'Eb']]),\n",
       "  'isophonics_164': (0.2549019607843137, [['Eb', 'G:7', 'C:(b3,5)']]),\n",
       "  'isophonics_191': (0.22916666666666666, [['Eb', 'G:7', 'C:(b3,5)']])},\n",
       " \"Vissi D'Arte\": {'isophonics_144': (0.5606060606060606,\n",
       "   [['C:(b3,5)', 'Bb', 'G:min', 'F:min']])}}"
      ]
     },
     "execution_count": 12,
     "metadata": {},
     "output_type": "execute_result"
    }
   ],
   "source": [
    "hsim_map_mini"
   ]
  },
  {
   "cell_type": "code",
   "execution_count": 13,
   "metadata": {},
   "outputs": [
    {
     "name": "stdout",
     "output_type": "stream",
     "text": [
      "isophonics_61:\tTitle: 12_-_Wait; Artist: The Beatles\n",
      "isophonics_152:\tTitle: 06_-_Tigerfest; Artist: Zweieck\n",
      "isophonics_164:\tTitle: 15_-_Es_Wird_Alles_Wieder_Gut,_Herr_Professor; Artist: Zweieck\n",
      "isophonics_191:\tTitle: 03_-_I'm_Only_Sleeping; Artist: The Beatles\n",
      "isophonics_144:\tTitle: 12_-_Jakob_Und_Marie; Artist: Zweieck\n"
     ]
    }
   ],
   "source": [
    "sonar_map = sonar_meta.set_index(\"id\").to_dict(\"index\")\n",
    "\n",
    "for sonar_matches in hsim_map_mini.values():\n",
    "    for sonar_match in sonar_matches:\n",
    "        print(\"{}:\\tTitle: {}; Artist: {}\".format(\n",
    "            sonar_match,\n",
    "            sonar_map[sonar_match][\"title\"],\n",
    "            sonar_map[sonar_match][\"artist\"])\n",
    "        )"
   ]
  },
  {
   "cell_type": "code",
   "execution_count": null,
   "metadata": {},
   "outputs": [],
   "source": []
  }
 ],
 "metadata": {
  "interpreter": {
   "hash": "f94780de1f3f5aa4c9046e32c047f69f4d58290f5069cff27f2bde9c8077bb27"
  },
  "kernelspec": {
   "display_name": "Python 3.9.6 64-bit ('musilar': conda)",
   "name": "python3"
  },
  "language_info": {
   "codemirror_mode": {
    "name": "ipython",
    "version": 3
   },
   "file_extension": ".py",
   "mimetype": "text/x-python",
   "name": "python",
   "nbconvert_exporter": "python",
   "pygments_lexer": "ipython3",
   "version": "3.9.6"
  },
  "orig_nbformat": 4
 },
 "nbformat": 4,
 "nbformat_minor": 2
}
